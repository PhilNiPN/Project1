{
 "cells": [
  {
   "attachments": {},
   "cell_type": "markdown",
   "metadata": {},
   "source": [
    "# Data Analysis of energy consumption for a single household  \n",
    "Data can be downloaded from here: http://archive.ics.uci.edu/ml/datasets/Individual+household+electric+power+consumption#\n",
    "\n",
    "In this dataset there is a total of 9 features and 2075259 measurements gathered in a house located in Sceaux (7km of Paris, France) between December 2006 and November 2010 (47 months). The attributes for the features are as follows:\n",
    "\n",
    "1. Date: Date in format dd/mm/yyyy\n",
    "2. Time: time in format hh:mm:ss\n",
    "3. Global_active_power: household global minute-averaged active power (in kilowatt)\n",
    "4. Global_reactive_power: household global minute-averaged reactive power (in kilowatt)\n",
    "5. Voltage: minute-averaged voltage (in volt)\n",
    "6. Global_intensity: household global minute-averaged current intensity (in ampere)\n",
    "7. Sub_metering_1: energy sub-metering No. 1 (in watt-hour of active energy). It corresponds to the kitchen, containing mainly a dishwasher, an oven and a microwave (hot plates are not electric but gas powered).\n",
    "8. Sub_metering_2: energy sub-metering No. 2 (in watt-hour of active energy). It corresponds to the laundry room, containing a washing-machine, a tumble-drier, a refrigerator and a light.\n",
    "9. Sub_metering_3: energy sub-metering No. 3 (in watt-hour of active energy). It corresponds to an electric water-heater and an air-conditioner."
   ]
  },
  {
   "cell_type": "code",
   "execution_count": null,
   "metadata": {},
   "outputs": [],
   "source": [
    "import numpy as np\n",
    "import pandas as pd\n",
    "import matplotlib.pyplot as plt\n",
    "import seaborn as sns\n",
    "import datetime\n",
    "import missingno as msno"
   ]
  }
 ],
 "metadata": {
  "language_info": {
   "name": "python"
  },
  "orig_nbformat": 4
 },
 "nbformat": 4,
 "nbformat_minor": 2
}
